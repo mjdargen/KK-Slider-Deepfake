{
  "cells": [
    {
      "cell_type": "markdown",
      "metadata": {
        "id": "JS9hNOQW1gyl"
      },
      "source": [
        "#  KK Slider Deepfake\n",
        "*by Michael D'Argenio*  \n",
        "\\\n",
        "**Have KK Slider from Animal Crossing record a custom message for your or your friend's special occasion!**  \n",
        "\\\n",
        "This program uses moviepy and pydub to generate video and audio of KK Slider. This program works like cameo.com where you can ask a celebrity to record a custom message for your or your friend's special occasion. This program allows you to request KK Slider to record a custom message for any occasion.  \n",
        "\\\n",
        "**Credit to GitHub User equalo-official**  \n",
        "This program uses equalo-official's animalese generator. It has been slightly modified for use in this project. View their project here: https://github.com/equalo-official/animalese-generator  \n"
      ]
    },
    {
      "cell_type": "markdown",
      "metadata": {
        "id": "hVCQ9j7k3z9k"
      },
      "source": [
        "##Install Dependencies\n",
        "---\n",
        "Click the play button in the cell below to install dependencies. Only need to run once at the start of each runtime session."
      ]
    },
    {
      "cell_type": "code",
      "execution_count": null,
      "metadata": {
        "id": "QWvu3DlSOxrO"
      },
      "outputs": [],
      "source": [
        "# update packages and install imagemagick and ffmpeg\n",
        "!apt update &> /dev/null\n",
        "!apt install imagemagick &> /dev/null\n",
        "!apt install ffmpeg &> /dev/null\n",
        "\n",
        "# install python dependencies\n",
        "!pip3 install pydub &> /dev/null\n",
        "!pip3 install nltk &> /dev/null\n",
        "import nltk\n",
        "nltk.download('punkt_tab')\n",
        "!pip3 install moviepy[optional]==1.0.3 &> /dev/null\n",
        "!sed -i '/<policy domain=\"path\" rights=\"none\" pattern=\"@\\*\"/d' /etc/ImageMagick-6/policy.xml\n",
        "\n",
        "# clone repository and change directory\n",
        "!git clone https://github.com/mjdargen/KK-Deepfake.git\n",
        "%cd ./KK-Deepfake"
      ]
    },
    {
      "cell_type": "markdown",
      "metadata": {
        "id": "yD9nzgQh3-M3"
      },
      "source": [
        "## Run Program\n",
        "Click the play button in the cell below to run the program. After clicking play, the program will prompt you for input just below the cell. Type your message for KK Slider and hit \"enter\"."
      ]
    },
    {
      "cell_type": "code",
      "execution_count": null,
      "metadata": {
        "id": "sjroikGlXeZs"
      },
      "outputs": [],
      "source": [
        "# run program\n",
        "!python3 kkdeepfake.py"
      ]
    },
    {
      "cell_type": "markdown",
      "metadata": {
        "id": "Q5iFAEgP4UQH"
      },
      "source": [
        "## Download Video\n",
        "Click the play button in the cell below to download the video file to your local computer."
      ]
    },
    {
      "cell_type": "code",
      "execution_count": null,
      "metadata": {
        "id": "6pDKCeAgaxc4"
      },
      "outputs": [],
      "source": [
        "# download resulting file\n",
        "from google.colab import files\n",
        "files.download('output.mp4')"
      ]
    }
  ],
  "metadata": {
    "colab": {
      "collapsed_sections": [],
      "machine_shape": "hm",
      "name": "KK Slider Deepfake.ipynb",
      "provenance": [],
      "toc_visible": true
    },
    "kernelspec": {
      "display_name": "Python 3",
      "name": "python3"
    }
  },
  "nbformat": 4,
  "nbformat_minor": 0
}
